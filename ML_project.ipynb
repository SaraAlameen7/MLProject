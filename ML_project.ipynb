{
 "cells": [
  {
   "cell_type": "markdown",
   "id": "a41abca2-f932-4dbf-927c-f92e04a2a883",
   "metadata": {},
   "source": [
    "# <b>DSAI 3201 Machine Learning Project<b>"
   ]
  },
  {
   "cell_type": "markdown",
   "id": "585d8bca-c37b-4b9d-ae93-d881f50c74f0",
   "metadata": {},
   "source": [
    "## Data Understanding and Preprocessing"
   ]
  },
  {
   "cell_type": "markdown",
   "id": "fd6a99ed-8ccb-4f88-87d1-26d722465f3b",
   "metadata": {},
   "source": [
    "## <b>1. Dataset Exploration<b> \n",
    "\n",
    "Examine the structure and features of the\n",
    "UCI Indoor Localization WiFi Dataset (520 RSSI features, along\n",
    "with building, floor, and coordinate information)."
   ]
  },
  {
   "cell_type": "code",
   "execution_count": 80,
   "id": "a868a0f5-7f1c-4105-a9eb-6885fd6fb015",
   "metadata": {},
   "outputs": [],
   "source": [
    "import pandas as pd\n",
    "from sklearn.preprocessing import MinMaxScaler"
   ]
  },
  {
   "cell_type": "code",
   "execution_count": 46,
   "id": "b99a3042-2629-4703-8fd7-05ef4825c2a2",
   "metadata": {},
   "outputs": [
    {
     "name": "stdout",
     "output_type": "stream",
     "text": [
      "Training dataset: \n",
      "   WAP001  WAP002  WAP003  WAP004  WAP005  WAP006  WAP007  WAP008  WAP009  \\\n",
      "0     100     100     100     100     100     100     100     100     100   \n",
      "1     100     100     100     100     100     100     100     100     100   \n",
      "2     100     100     100     100     100     100     100     -97     100   \n",
      "3     100     100     100     100     100     100     100     100     100   \n",
      "4     100     100     100     100     100     100     100     100     100   \n",
      "\n",
      "   WAP010  ...  WAP520  LONGITUDE      LATITUDE  FLOOR  BUILDINGID  SPACEID  \\\n",
      "0     100  ...     100 -7541.2643  4.864921e+06      2           1      106   \n",
      "1     100  ...     100 -7536.6212  4.864934e+06      2           1      106   \n",
      "2     100  ...     100 -7519.1524  4.864950e+06      2           1      103   \n",
      "3     100  ...     100 -7524.5704  4.864934e+06      2           1      102   \n",
      "4     100  ...     100 -7632.1436  4.864982e+06      0           0      122   \n",
      "\n",
      "   RELATIVEPOSITION  USERID  PHONEID   TIMESTAMP  \n",
      "0                 2       2       23  1371713733  \n",
      "1                 2       2       23  1371713691  \n",
      "2                 2       2       23  1371714095  \n",
      "3                 2       2       23  1371713807  \n",
      "4                 2      11       13  1369909710  \n",
      "\n",
      "[5 rows x 529 columns]\n",
      "\n",
      "Test dataset: \n",
      "   WAP001  WAP002  WAP003  WAP004  WAP005  WAP006  WAP007  WAP008  WAP009  \\\n",
      "0     100     100     100     100     100     100     100     100     100   \n",
      "1     100     100     100     100     100     100     100     100     100   \n",
      "2     100     100     100     100     100     100     100     100     100   \n",
      "3     100     100     100     100     100     100     100     100     100   \n",
      "4     100     100     100     100     100     100     100     100     100   \n",
      "\n",
      "   WAP010  ...  WAP520    LONGITUDE      LATITUDE  FLOOR  BUILDINGID  SPACEID  \\\n",
      "0     100  ...     100 -7515.916799  4.864890e+06      1           1        0   \n",
      "1     100  ...     100 -7383.867221  4.864840e+06      4           2        0   \n",
      "2     100  ...     100 -7374.302080  4.864847e+06      4           2        0   \n",
      "3     100  ...     100 -7365.824883  4.864843e+06      4           2        0   \n",
      "4     100  ...     100 -7641.499303  4.864922e+06      2           0        0   \n",
      "\n",
      "   RELATIVEPOSITION  USERID  PHONEID   TIMESTAMP  \n",
      "0                 0       0        0  1380872703  \n",
      "1                 0       0       13  1381155054  \n",
      "2                 0       0       13  1381155095  \n",
      "3                 0       0       13  1381155138  \n",
      "4                 0       0        2  1380877774  \n",
      "\n",
      "[5 rows x 529 columns]\n"
     ]
    }
   ],
   "source": [
    "# Load the datset\n",
    "train_df = pd.read_csv('trainingData.csv')\n",
    "test_df = pd.read_csv('validationData.csv')\n",
    "\n",
    "# Display the first few rows of the dataset\n",
    "print(\"Training dataset: \")\n",
    "print(train_df.head())\n",
    "\n",
    "print(\"\\nTest dataset: \")\n",
    "print(test_df.head())\n"
   ]
  },
  {
   "cell_type": "code",
   "execution_count": 48,
   "id": "edb42987-8274-4eea-a726-581fc390d44d",
   "metadata": {},
   "outputs": [
    {
     "name": "stdout",
     "output_type": "stream",
     "text": [
      "\n",
      "Train Dataset Info:\n",
      "<class 'pandas.core.frame.DataFrame'>\n",
      "RangeIndex: 19937 entries, 0 to 19936\n",
      "Columns: 529 entries, WAP001 to TIMESTAMP\n",
      "dtypes: float64(2), int64(527)\n",
      "memory usage: 80.5 MB\n",
      "\n",
      "Test Dataset Info:\n",
      "<class 'pandas.core.frame.DataFrame'>\n",
      "RangeIndex: 1111 entries, 0 to 1110\n",
      "Columns: 529 entries, WAP001 to TIMESTAMP\n",
      "dtypes: float64(2), int64(527)\n",
      "memory usage: 4.5 MB\n"
     ]
    }
   ],
   "source": [
    "# Display the dataset's structure and basic information\n",
    "print(\"\\nTrain Dataset Info:\")\n",
    "train_df.info()\n",
    "\n",
    "print(\"\\nTest Dataset Info:\")\n",
    "test_df.info()\n"
   ]
  },
  {
   "cell_type": "code",
   "execution_count": 124,
   "id": "53693fd1-b0b3-455c-89a4-d92b854b7256",
   "metadata": {},
   "outputs": [
    {
     "name": "stdout",
     "output_type": "stream",
     "text": [
      "          LONGITUDE      LATITUDE         FLOOR    BUILDINGID       SPACEID  \\\n",
      "count  19937.000000  1.993700e+04  19937.000000  19937.000000  19937.000000   \n",
      "mean   -7464.275947  4.864871e+06      1.674575      1.212820    148.429954   \n",
      "std      123.402010  6.693318e+01      1.223078      0.833139     58.342106   \n",
      "min    -7691.338400  4.864746e+06      0.000000      0.000000      1.000000   \n",
      "25%    -7594.737000  4.864821e+06      1.000000      0.000000    110.000000   \n",
      "50%    -7423.060900  4.864852e+06      2.000000      1.000000    129.000000   \n",
      "75%    -7359.193000  4.864930e+06      3.000000      2.000000    207.000000   \n",
      "max    -7300.818990  4.865017e+06      4.000000      2.000000    254.000000   \n",
      "\n",
      "       RELATIVEPOSITION        USERID       PHONEID     TIMESTAMP  \n",
      "count      19937.000000  19937.000000  19937.000000  1.993700e+04  \n",
      "mean           1.833024      9.068014     13.021869  1.371421e+09  \n",
      "std            0.372964      4.988720      5.362410  5.572054e+05  \n",
      "min            1.000000      1.000000      1.000000  1.369909e+09  \n",
      "25%            2.000000      5.000000      8.000000  1.371056e+09  \n",
      "50%            2.000000     11.000000     13.000000  1.371716e+09  \n",
      "75%            2.000000     13.000000     14.000000  1.371721e+09  \n",
      "max            2.000000     18.000000     24.000000  1.371738e+09  \n",
      "\n",
      "-------Train Summary Statistics-------\n",
      "             WAP001        WAP002   WAP003   WAP004        WAP005  \\\n",
      "count  19937.000000  19937.000000  19937.0  19937.0  19937.000000   \n",
      "mean      99.823644     99.820936    100.0    100.0     99.613733   \n",
      "std        5.866842      5.798156      0.0      0.0      8.615657   \n",
      "min      -97.000000    -90.000000    100.0    100.0    -97.000000   \n",
      "25%      100.000000    100.000000    100.0    100.0    100.000000   \n",
      "50%      100.000000    100.000000    100.0    100.0    100.000000   \n",
      "75%      100.000000    100.000000    100.0    100.0    100.000000   \n",
      "max      100.000000    100.000000    100.0    100.0    100.000000   \n",
      "\n",
      "             WAP006        WAP007        WAP008        WAP009        WAP010  \\\n",
      "count  19937.000000  19937.000000  19937.000000  19937.000000  19937.000000   \n",
      "mean      97.130461     94.733661     93.820234     94.693936     99.163766   \n",
      "std       22.931890     30.541335     33.010404     30.305084     12.634045   \n",
      "min      -98.000000    -99.000000    -98.000000    -98.000000    -99.000000   \n",
      "25%      100.000000    100.000000    100.000000    100.000000    100.000000   \n",
      "50%      100.000000    100.000000    100.000000    100.000000    100.000000   \n",
      "75%      100.000000    100.000000    100.000000    100.000000    100.000000   \n",
      "max      100.000000    100.000000    100.000000    100.000000    100.000000   \n",
      "\n",
      "       ...   WAP520     LONGITUDE      LATITUDE         FLOOR    BUILDINGID  \\\n",
      "count  ...  19937.0  19937.000000  1.993700e+04  19937.000000  19937.000000   \n",
      "mean   ...    100.0  -7464.275947  4.864871e+06      1.674575      1.212820   \n",
      "std    ...      0.0    123.402010  6.693318e+01      1.223078      0.833139   \n",
      "min    ...    100.0  -7691.338400  4.864746e+06      0.000000      0.000000   \n",
      "25%    ...    100.0  -7594.737000  4.864821e+06      1.000000      0.000000   \n",
      "50%    ...    100.0  -7423.060900  4.864852e+06      2.000000      1.000000   \n",
      "75%    ...    100.0  -7359.193000  4.864930e+06      3.000000      2.000000   \n",
      "max    ...    100.0  -7300.818990  4.865017e+06      4.000000      2.000000   \n",
      "\n",
      "            SPACEID  RELATIVEPOSITION        USERID       PHONEID  \\\n",
      "count  19937.000000      19937.000000  19937.000000  19937.000000   \n",
      "mean     148.429954          1.833024      9.068014     13.021869   \n",
      "std       58.342106          0.372964      4.988720      5.362410   \n",
      "min        1.000000          1.000000      1.000000      1.000000   \n",
      "25%      110.000000          2.000000      5.000000      8.000000   \n",
      "50%      129.000000          2.000000     11.000000     13.000000   \n",
      "75%      207.000000          2.000000     13.000000     14.000000   \n",
      "max      254.000000          2.000000     18.000000     24.000000   \n",
      "\n",
      "          TIMESTAMP  \n",
      "count  1.993700e+04  \n",
      "mean   1.371421e+09  \n",
      "std    5.572054e+05  \n",
      "min    1.369909e+09  \n",
      "25%    1.371056e+09  \n",
      "50%    1.371716e+09  \n",
      "75%    1.371721e+09  \n",
      "max    1.371738e+09  \n",
      "\n",
      "[8 rows x 529 columns]\n",
      "\n",
      "-------Test Summary Statistics-------\n",
      "            WAP001  WAP002       WAP003       WAP004  WAP005  WAP006  WAP007  \\\n",
      "count  1111.000000  1111.0  1111.000000  1111.000000  1111.0  1111.0  1111.0   \n",
      "mean     98.627363   100.0    99.665167    99.665167   100.0   100.0   100.0   \n",
      "std      16.127245     0.0     7.888265     7.888607     0.0     0.0     0.0   \n",
      "min     -94.000000   100.0   -87.000000   -88.000000   100.0   100.0   100.0   \n",
      "25%     100.000000   100.0   100.000000   100.000000   100.0   100.0   100.0   \n",
      "50%     100.000000   100.0   100.000000   100.000000   100.0   100.0   100.0   \n",
      "75%     100.000000   100.0   100.000000   100.000000   100.0   100.0   100.0   \n",
      "max     100.000000   100.0   100.000000   100.000000   100.0   100.0   100.0   \n",
      "\n",
      "            WAP008       WAP009       WAP010  ...       WAP520    LONGITUDE  \\\n",
      "count  1111.000000  1111.000000  1111.000000  ...  1111.000000  1111.000000   \n",
      "mean     94.297030    90.655266    98.811881  ...    99.843384 -7529.197448   \n",
      "std      32.148809    39.886991    14.931667  ...     5.220261   120.209336   \n",
      "min     -99.000000   -96.000000   -98.000000  ...   -74.000000 -7695.938755   \n",
      "25%     100.000000   100.000000   100.000000  ...   100.000000 -7637.423800   \n",
      "50%     100.000000   100.000000   100.000000  ...   100.000000 -7560.376300   \n",
      "75%     100.000000   100.000000   100.000000  ...   100.000000 -7420.539659   \n",
      "max     100.000000   100.000000   100.000000  ...   100.000000 -7299.786517   \n",
      "\n",
      "           LATITUDE        FLOOR   BUILDINGID  SPACEID  RELATIVEPOSITION  \\\n",
      "count  1.111000e+03  1111.000000  1111.000000   1111.0            1111.0   \n",
      "mean   4.864902e+06     1.571557     0.758776      0.0               0.0   \n",
      "std    7.027280e+01     1.001828     0.816139      0.0               0.0   \n",
      "min    4.864748e+06     0.000000     0.000000      0.0               0.0   \n",
      "25%    4.864843e+06     1.000000     0.000000      0.0               0.0   \n",
      "50%    4.864915e+06     1.000000     1.000000      0.0               0.0   \n",
      "75%    4.864967e+06     2.000000     1.000000      0.0               0.0   \n",
      "max    4.865017e+06     4.000000     2.000000      0.0               0.0   \n",
      "\n",
      "       USERID      PHONEID     TIMESTAMP  \n",
      "count  1111.0  1111.000000  1.111000e+03  \n",
      "mean      0.0    11.923492  1.380604e+09  \n",
      "std       0.0     6.556236  5.003222e+05  \n",
      "min       0.0     0.000000  1.379578e+09  \n",
      "25%       0.0     9.000000  1.380189e+09  \n",
      "50%       0.0    13.000000  1.380873e+09  \n",
      "75%       0.0    15.000000  1.380875e+09  \n",
      "max       0.0    21.000000  1.381248e+09  \n",
      "\n",
      "[8 rows x 529 columns]\n"
     ]
    }
   ],
   "source": [
    "last_9_columns = train_df.iloc[:, -9:]\n",
    "\n",
    "# Apply the describe function on the last 9 columns\n",
    "print(last_9_columns.describe())\n",
    "\n",
    "# Show summary statistics of the dataset\n",
    "print(\"\\n-------Train Summary Statistics-------\")\n",
    "print(train_df.describe())\n",
    "print(\"\\n-------Test Summary Statistics-------\")\n",
    "print(test_df.describe())\n",
    "\n"
   ]
  },
  {
   "cell_type": "code",
   "execution_count": 132,
   "id": "735ca76f-4d55-4401-a0aa-85baa6d96793",
   "metadata": {},
   "outputs": [
    {
     "name": "stdout",
     "output_type": "stream",
     "text": [
      "Outliers in each column:\n",
      "LONGITUDE: 0\n",
      "LATITUDE: 0\n",
      "FLOOR: 0\n",
      "BUILDINGID: 0\n",
      "SPACEID: 0\n",
      "RELATIVEPOSITION: 3329\n",
      "USERID: 0\n",
      "PHONEID: 437\n",
      "TIMESTAMP: 1502\n"
     ]
    }
   ],
   "source": [
    "\n",
    "def get_outlier_values(df, column):\n",
    "    \"\"\"\n",
    "    Function to find outliers in a specific column using the IQR method and return the outlier values.\n",
    "\n",
    "    Parameters:\n",
    "    - df: The DataFrame containing the data.\n",
    "    - column: The column name (string) for which we need to find the outliers.\n",
    "\n",
    "    Returns:\n",
    "    - A list or array of outlier values from the specified column.\n",
    "    \"\"\"\n",
    "    # Check if the column exists in the DataFrame\n",
    "    if column not in df.columns:\n",
    "        raise ValueError(f\"Column '{column}' not found in the DataFrame\")\n",
    "\n",
    "    # Calculate Q1 (25th percentile) and Q3 (75th percentile)\n",
    "    Q1 = df[column].quantile(0.25)\n",
    "    Q3 = df[column].quantile(0.75)\n",
    "    \n",
    "    # Calculate IQR\n",
    "    IQR = Q3 - Q1\n",
    "    \n",
    "    # Define the lower and upper bounds for outliers\n",
    "    lower_bound = Q1 - 1.5 * IQR\n",
    "    upper_bound = Q3 + 1.5 * IQR\n",
    "    \n",
    "    # Find the outlier values in the specified column\n",
    "    outliers = df[column][(df[column] < lower_bound) | (df[column] > upper_bound)]\n",
    "    count = outliers.count()\n",
    "    return count\n",
    "\n",
    "# Example usage\n",
    "print(\"Outliers in each column:\")\n",
    "for i in last_9_columns.columns:\n",
    "    outliers = get_outlier_values(train_df, i)\n",
    "    print(f\"{i}: {outliers}\")\n"
   ]
  },
  {
   "cell_type": "code",
   "execution_count": 130,
   "id": "bfb68b73-edd0-485c-81b8-9c9569fb5398",
   "metadata": {},
   "outputs": [
    {
     "name": "stdout",
     "output_type": "stream",
     "text": [
      "\n",
      "Columns in Train Dataset:\n",
      "Index(['WAP001', 'WAP002', 'WAP003', 'WAP004', 'WAP005', 'WAP006', 'WAP007',\n",
      "       'WAP008', 'WAP009', 'WAP010',\n",
      "       ...\n",
      "       'WAP520', 'LONGITUDE', 'LATITUDE', 'FLOOR', 'BUILDINGID', 'SPACEID',\n",
      "       'RELATIVEPOSITION', 'USERID', 'PHONEID', 'TIMESTAMP'],\n",
      "      dtype='object', length=529)\n",
      "\n",
      "Columns in Test Dataset:\n",
      "Index(['WAP001', 'WAP002', 'WAP003', 'WAP004', 'WAP005', 'WAP006', 'WAP007',\n",
      "       'WAP008', 'WAP009', 'WAP010',\n",
      "       ...\n",
      "       'WAP520', 'LONGITUDE', 'LATITUDE', 'FLOOR', 'BUILDINGID', 'SPACEID',\n",
      "       'RELATIVEPOSITION', 'USERID', 'PHONEID', 'TIMESTAMP'],\n",
      "      dtype='object', length=529)\n"
     ]
    }
   ],
   "source": [
    "# Check the column names to understand the features\n",
    "print(\"\\nColumns in Train Dataset:\")\n",
    "print(train_df.columns)\n",
    "print(\"\\nColumns in Test Dataset:\")\n",
    "print(test_df.columns)\n"
   ]
  },
  {
   "cell_type": "markdown",
   "id": "3ea258bf-cfaf-4de3-a3da-ee0ed387e308",
   "metadata": {},
   "source": [
    "## <b>2. Data Cleaning and Preparation:<b>"
   ]
  },
  {
   "cell_type": "markdown",
   "id": "b3a825a1-fc64-4823-b561-9741bcd35db5",
   "metadata": {},
   "source": [
    "- Handle any missing values and normalize the RSSI\n",
    "measurements"
   ]
  },
  {
   "cell_type": "code",
   "execution_count": 78,
   "id": "3daf24fc-3524-4c0b-b375-053638fc9226",
   "metadata": {},
   "outputs": [
    {
     "name": "stdout",
     "output_type": "stream",
     "text": [
      "\n",
      "-------Train Missing Values-------\n",
      "WAP001              0\n",
      "WAP002              0\n",
      "WAP003              0\n",
      "WAP004              0\n",
      "WAP005              0\n",
      "                   ..\n",
      "SPACEID             0\n",
      "RELATIVEPOSITION    0\n",
      "USERID              0\n",
      "PHONEID             0\n",
      "TIMESTAMP           0\n",
      "Length: 529, dtype: int64\n",
      "\n",
      "-------Test Missing Values-------\n",
      "WAP001              0\n",
      "WAP002              0\n",
      "WAP003              0\n",
      "WAP004              0\n",
      "WAP005              0\n",
      "                   ..\n",
      "SPACEID             0\n",
      "RELATIVEPOSITION    0\n",
      "USERID              0\n",
      "PHONEID             0\n",
      "TIMESTAMP           0\n",
      "Length: 529, dtype: int64\n"
     ]
    }
   ],
   "source": [
    "# checking data types\n",
    "# print(train_df.dtypes)\n",
    "\n",
    "# Check for missing values\n",
    "print(\"\\n-------Train Missing Values-------\")\n",
    "print(train_df.isnull().sum())\n",
    "\n",
    "print(\"\\n-------Test Missing Values-------\")\n",
    "print(test_df.isnull().sum())\n",
    "\n",
    "# Filling missing values with the mean\n",
    "train_df.fillna(train_df.mean(), inplace=True)\n",
    "test_df.fillna(test_df.mean(), inplace=True)\n"
   ]
  },
  {
   "cell_type": "markdown",
   "id": "4d803dd0-2008-422f-81c1-a405d1a149cf",
   "metadata": {},
   "source": [
    "- Scale features appropriately and encode any categorical\n",
    "variables if needed"
   ]
  },
  {
   "cell_type": "code",
   "execution_count": null,
   "id": "67ee97a5-dd3d-492c-a4ae-5dedc117b512",
   "metadata": {},
   "outputs": [],
   "source": [
    "\n"
   ]
  },
  {
   "cell_type": "markdown",
   "id": "9ce6f0f6-8d88-4ed1-914a-8adadfac4b02",
   "metadata": {},
   "source": [
    "- Optionally, apply feature reduction techniques (e.g., PCA)\n",
    "to reduce noise and improve model efficiency"
   ]
  },
  {
   "cell_type": "code",
   "execution_count": null,
   "id": "9f7f40b9-9173-4e71-9ba4-ac71ecd337bd",
   "metadata": {},
   "outputs": [],
   "source": []
  }
 ],
 "metadata": {
  "kernelspec": {
   "display_name": "Python [conda env:base] *",
   "language": "python",
   "name": "conda-base-py"
  },
  "language_info": {
   "codemirror_mode": {
    "name": "ipython",
    "version": 3
   },
   "file_extension": ".py",
   "mimetype": "text/x-python",
   "name": "python",
   "nbconvert_exporter": "python",
   "pygments_lexer": "ipython3",
   "version": "3.12.7"
  }
 },
 "nbformat": 4,
 "nbformat_minor": 5
}
